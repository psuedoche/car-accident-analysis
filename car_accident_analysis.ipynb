{
 "cells": [
  {
   "cell_type": "code",
   "execution_count": 429,
   "metadata": {},
   "outputs": [],
   "source": [
    "import pandas as pd\n",
    "import numpy as np\n",
    "import seaborn as sns\n",
    "import matplotlib.pyplot as plt\n",
    "from scipy import stats"
   ]
  },
  {
   "cell_type": "code",
   "execution_count": 430,
   "metadata": {},
   "outputs": [],
   "source": [
    "df = pd.read_csv('us_traffic_accidents.csv')"
   ]
  },
  {
   "cell_type": "code",
   "execution_count": 431,
   "metadata": {},
   "outputs": [
    {
     "data": {
      "text/html": [
       "<div>\n",
       "<style scoped>\n",
       "    .dataframe tbody tr th:only-of-type {\n",
       "        vertical-align: middle;\n",
       "    }\n",
       "\n",
       "    .dataframe tbody tr th {\n",
       "        vertical-align: top;\n",
       "    }\n",
       "\n",
       "    .dataframe thead th {\n",
       "        text-align: right;\n",
       "    }\n",
       "</style>\n",
       "<table border=\"1\" class=\"dataframe\">\n",
       "  <thead>\n",
       "    <tr style=\"text-align: right;\">\n",
       "      <th></th>\n",
       "      <th>ID</th>\n",
       "      <th>Severity</th>\n",
       "      <th>Start_Time</th>\n",
       "      <th>End_Time</th>\n",
       "      <th>Distance(mi)</th>\n",
       "      <th>Description</th>\n",
       "      <th>Street</th>\n",
       "      <th>City</th>\n",
       "      <th>County</th>\n",
       "      <th>State</th>\n",
       "      <th>...</th>\n",
       "      <th>Amenity</th>\n",
       "      <th>Traffic_Calming</th>\n",
       "      <th>Crossing</th>\n",
       "      <th>Give_Way</th>\n",
       "      <th>Stop</th>\n",
       "      <th>Junction</th>\n",
       "      <th>Railway</th>\n",
       "      <th>Roundabout</th>\n",
       "      <th>Traffic_Signal</th>\n",
       "      <th>Turning_Loop</th>\n",
       "    </tr>\n",
       "  </thead>\n",
       "  <tbody>\n",
       "    <tr>\n",
       "      <th>0</th>\n",
       "      <td>A-2978105</td>\n",
       "      <td>2</td>\n",
       "      <td>2020-09-22 13:57:30</td>\n",
       "      <td>2020-09-22 23:57:06</td>\n",
       "      <td>0.121</td>\n",
       "      <td>Stationary traffic on FL-50 from FL-408/Challe...</td>\n",
       "      <td>E Colonial Dr</td>\n",
       "      <td>Orlando</td>\n",
       "      <td>Orange</td>\n",
       "      <td>FL</td>\n",
       "      <td>...</td>\n",
       "      <td>False</td>\n",
       "      <td>False</td>\n",
       "      <td>False</td>\n",
       "      <td>False</td>\n",
       "      <td>False</td>\n",
       "      <td>False</td>\n",
       "      <td>False</td>\n",
       "      <td>False</td>\n",
       "      <td>False</td>\n",
       "      <td>False</td>\n",
       "    </tr>\n",
       "    <tr>\n",
       "      <th>1</th>\n",
       "      <td>A-3647937</td>\n",
       "      <td>2</td>\n",
       "      <td>2020-04-18 15:22:47</td>\n",
       "      <td>2020-04-18 16:27:45</td>\n",
       "      <td>0.000</td>\n",
       "      <td>At SR-704/Okeechobee Blvd/Exit 70 - Accident. ...</td>\n",
       "      <td>I-95 N</td>\n",
       "      <td>West Palm Beach</td>\n",
       "      <td>Palm Beach</td>\n",
       "      <td>FL</td>\n",
       "      <td>...</td>\n",
       "      <td>False</td>\n",
       "      <td>False</td>\n",
       "      <td>False</td>\n",
       "      <td>False</td>\n",
       "      <td>False</td>\n",
       "      <td>False</td>\n",
       "      <td>False</td>\n",
       "      <td>False</td>\n",
       "      <td>False</td>\n",
       "      <td>False</td>\n",
       "    </tr>\n",
       "    <tr>\n",
       "      <th>2</th>\n",
       "      <td>A-3112304</td>\n",
       "      <td>2</td>\n",
       "      <td>2020-11-11 17:22:48</td>\n",
       "      <td>2020-11-11 18:58:53</td>\n",
       "      <td>0.495</td>\n",
       "      <td>Incident on US-8 near REDWING AVE Drive with c...</td>\n",
       "      <td>Redwing Ave</td>\n",
       "      <td>Shafer</td>\n",
       "      <td>Chisago</td>\n",
       "      <td>MN</td>\n",
       "      <td>...</td>\n",
       "      <td>False</td>\n",
       "      <td>False</td>\n",
       "      <td>False</td>\n",
       "      <td>False</td>\n",
       "      <td>False</td>\n",
       "      <td>False</td>\n",
       "      <td>False</td>\n",
       "      <td>False</td>\n",
       "      <td>False</td>\n",
       "      <td>False</td>\n",
       "    </tr>\n",
       "    <tr>\n",
       "      <th>3</th>\n",
       "      <td>A-3821734</td>\n",
       "      <td>2</td>\n",
       "      <td>2019-10-27 18:30:00</td>\n",
       "      <td>2019-10-27 21:47:39</td>\n",
       "      <td>0.000</td>\n",
       "      <td>At Nordhoff St/Exit 69 - Accident.</td>\n",
       "      <td>Nordhoff St</td>\n",
       "      <td>North Hills</td>\n",
       "      <td>Los Angeles</td>\n",
       "      <td>CA</td>\n",
       "      <td>...</td>\n",
       "      <td>False</td>\n",
       "      <td>False</td>\n",
       "      <td>False</td>\n",
       "      <td>False</td>\n",
       "      <td>False</td>\n",
       "      <td>False</td>\n",
       "      <td>False</td>\n",
       "      <td>False</td>\n",
       "      <td>False</td>\n",
       "      <td>False</td>\n",
       "    </tr>\n",
       "    <tr>\n",
       "      <th>4</th>\n",
       "      <td>A-3128913</td>\n",
       "      <td>2</td>\n",
       "      <td>2020-12-17 20:18:09</td>\n",
       "      <td>2020-12-17 21:54:11</td>\n",
       "      <td>0.012</td>\n",
       "      <td>Incident on MN-5 WB near MN-101 Drive with cau...</td>\n",
       "      <td>Powers Blvd</td>\n",
       "      <td>Chanhassen</td>\n",
       "      <td>Carver</td>\n",
       "      <td>MN</td>\n",
       "      <td>...</td>\n",
       "      <td>False</td>\n",
       "      <td>False</td>\n",
       "      <td>True</td>\n",
       "      <td>False</td>\n",
       "      <td>False</td>\n",
       "      <td>False</td>\n",
       "      <td>False</td>\n",
       "      <td>False</td>\n",
       "      <td>True</td>\n",
       "      <td>False</td>\n",
       "    </tr>\n",
       "  </tbody>\n",
       "</table>\n",
       "<p>5 rows × 29 columns</p>\n",
       "</div>"
      ],
      "text/plain": [
       "          ID  Severity           Start_Time             End_Time  \\\n",
       "0  A-2978105         2  2020-09-22 13:57:30  2020-09-22 23:57:06   \n",
       "1  A-3647937         2  2020-04-18 15:22:47  2020-04-18 16:27:45   \n",
       "2  A-3112304         2  2020-11-11 17:22:48  2020-11-11 18:58:53   \n",
       "3  A-3821734         2  2019-10-27 18:30:00  2019-10-27 21:47:39   \n",
       "4  A-3128913         2  2020-12-17 20:18:09  2020-12-17 21:54:11   \n",
       "\n",
       "   Distance(mi)                                        Description  \\\n",
       "0         0.121  Stationary traffic on FL-50 from FL-408/Challe...   \n",
       "1         0.000  At SR-704/Okeechobee Blvd/Exit 70 - Accident. ...   \n",
       "2         0.495  Incident on US-8 near REDWING AVE Drive with c...   \n",
       "3         0.000                 At Nordhoff St/Exit 69 - Accident.   \n",
       "4         0.012  Incident on MN-5 WB near MN-101 Drive with cau...   \n",
       "\n",
       "           Street             City       County State  ...  Amenity  \\\n",
       "0   E Colonial Dr          Orlando       Orange    FL  ...    False   \n",
       "1          I-95 N  West Palm Beach   Palm Beach    FL  ...    False   \n",
       "2     Redwing Ave           Shafer      Chisago    MN  ...    False   \n",
       "3     Nordhoff St      North Hills  Los Angeles    CA  ...    False   \n",
       "4     Powers Blvd       Chanhassen       Carver    MN  ...    False   \n",
       "\n",
       "   Traffic_Calming  Crossing  Give_Way   Stop Junction  Railway  Roundabout  \\\n",
       "0            False     False     False  False    False    False       False   \n",
       "1            False     False     False  False    False    False       False   \n",
       "2            False     False     False  False    False    False       False   \n",
       "3            False     False     False  False    False    False       False   \n",
       "4            False      True     False  False    False    False       False   \n",
       "\n",
       "  Traffic_Signal  Turning_Loop  \n",
       "0          False         False  \n",
       "1          False         False  \n",
       "2          False         False  \n",
       "3          False         False  \n",
       "4           True         False  \n",
       "\n",
       "[5 rows x 29 columns]"
      ]
     },
     "execution_count": 431,
     "metadata": {},
     "output_type": "execute_result"
    }
   ],
   "source": [
    "df.head()"
   ]
  },
  {
   "cell_type": "code",
   "execution_count": 432,
   "metadata": {},
   "outputs": [
    {
     "data": {
      "text/plain": [
       "Index(['ID', 'Severity', 'Start_Time', 'End_Time', 'Distance(mi)',\n",
       "       'Description', 'Street', 'City', 'County', 'State', 'Temperature(F)',\n",
       "       'Wind_Chill(F)', 'Humidity(%)', 'Pressure(in)', 'Visibility(mi)',\n",
       "       'Wind_Direction', 'Wind_Speed(mph)', 'Precipitation(in)',\n",
       "       'Weather_Condition', 'Amenity', 'Traffic_Calming', 'Crossing',\n",
       "       'Give_Way', 'Stop', 'Junction', 'Railway', 'Roundabout',\n",
       "       'Traffic_Signal', 'Turning_Loop'],\n",
       "      dtype='object')"
      ]
     },
     "execution_count": 432,
     "metadata": {},
     "output_type": "execute_result"
    }
   ],
   "source": [
    "df.columns"
   ]
  },
  {
   "cell_type": "code",
   "execution_count": 506,
   "metadata": {},
   "outputs": [
    {
     "name": "stderr",
     "output_type": "stream",
     "text": [
      "/Users/psuedoche/opt/anaconda3/lib/python3.7/site-packages/seaborn/_decorators.py:43: FutureWarning: Pass the following variables as keyword args: x, y. From version 0.12, the only valid positional argument will be `data`, and passing other arguments without an explicit keyword will result in an error or misinterpretation.\n",
      "  FutureWarning\n"
     ]
    },
    {
     "data": {
      "text/plain": [
       "Text(0, 0.5, 'Frequency')"
      ]
     },
     "execution_count": 506,
     "metadata": {},
     "output_type": "execute_result"
    },
    {
     "data": {
      "image/png": "[encoded data removed]",
      "text/plain": [
       "<Figure size 432x288 with 1 Axes>"
      ]
     },
     "metadata": {
      "needs_background": "light"
     },
     "output_type": "display_data"
    }
   ],
   "source": [
    "# Extract year\n",
    "df['Start_Time'] = pd.to_datetime(df['Start_Time'])\n",
    "df['End_Time'] = pd.to_datetime(df['End_Time'])\n",
    "date_accidents_count = df[\"Start_Time\"].dt.year.value_counts()\n",
    "sns.barplot(date_accidents_count.index, date_accidents_count.values,palette =sns.color_palette(\"crest\", n_colors=5))\n",
    "plt.xlabel(\"Year\")\n",
    "plt.ylabel(\"Frequency\")"
   ]
  },
  {
   "cell_type": "code",
   "execution_count": 507,
   "metadata": {},
   "outputs": [
    {
     "name": "stderr",
     "output_type": "stream",
     "text": [
      "/Users/psuedoche/opt/anaconda3/lib/python3.7/site-packages/seaborn/_decorators.py:43: FutureWarning: Pass the following variables as keyword args: x, y. From version 0.12, the only valid positional argument will be `data`, and passing other arguments without an explicit keyword will result in an error or misinterpretation.\n",
      "  FutureWarning\n"
     ]
    },
    {
     "data": {
      "text/plain": [
       "Text(0, 0.5, 'Frequency')"
      ]
     },
     "execution_count": 507,
     "metadata": {},
     "output_type": "execute_result"
    },
    {
     "data": {
      "image/png": "[encoded data removed]",
      "text/plain": [
       "<Figure size 432x288 with 1 Axes>"
      ]
     },
     "metadata": {
      "needs_background": "light"
     },
     "output_type": "display_data"
    }
   ],
   "source": [
    "date_accidents_count = df[\"Start_Time\"].dt.month.value_counts()\n",
    "sns.barplot(date_accidents_count.index, date_accidents_count.values,palette =sns.color_palette(\"crest\", n_colors=20))\n",
    "plt.xlabel(\"Month\")\n",
    "plt.ylabel(\"Frequency\")"
   ]
  },
  {
   "cell_type": "code",
   "execution_count": 435,
   "metadata": {},
   "outputs": [
    {
     "name": "stderr",
     "output_type": "stream",
     "text": [
      "/Users/psuedoche/opt/anaconda3/lib/python3.7/site-packages/seaborn/_decorators.py:43: FutureWarning: Pass the following variables as keyword args: x, y. From version 0.12, the only valid positional argument will be `data`, and passing other arguments without an explicit keyword will result in an error or misinterpretation.\n",
      "  FutureWarning\n"
     ]
    },
    {
     "data": {
      "image/png": "[encoded data removed]",
      "text/plain": [
       "<Figure size 1440x576 with 1 Axes>"
      ]
     },
     "metadata": {
      "needs_background": "light"
     },
     "output_type": "display_data"
    }
   ],
   "source": [
    "cities = df['City'].value_counts()\n",
    "cities\n",
    "\n",
    "plt.figure(figsize=(20, 8))\n",
    "plt.title(\"Top 10 cities with the highest number of accidents\")\n",
    "sns.barplot(cities[:10].values, cities[:10].index, orient=\"h\", palette =sns.color_palette(\"crest\", n_colors=20))\n",
    "plt.xlabel(\"Number of accidents\")\n",
    "plt.ylabel(\"City\")\n",
    "plt.show()"
   ]
  },
  {
   "cell_type": "code",
   "execution_count": 509,
   "metadata": {},
   "outputs": [
    {
     "name": "stderr",
     "output_type": "stream",
     "text": [
      "/Users/psuedoche/opt/anaconda3/lib/python3.7/site-packages/seaborn/_decorators.py:43: FutureWarning: Pass the following variables as keyword args: x, y. From version 0.12, the only valid positional argument will be `data`, and passing other arguments without an explicit keyword will result in an error or misinterpretation.\n",
      "  FutureWarning\n"
     ]
    },
    {
     "data": {
      "image/png": "[encoded data removed]",
      "text/plain": [
       "<Figure size 1440x576 with 1 Axes>"
      ]
     },
     "metadata": {
      "needs_background": "light"
     },
     "output_type": "display_data"
    }
   ],
   "source": [
    "counties = df['County'].value_counts()\n",
    "\n",
    "\n",
    "plt.figure(figsize=(20, 8))\n",
    "plt.title(\"Top 10 counties with the highest number of accidents\")\n",
    "sns.barplot(counties[:10].values, counties[:10].index, orient=\"h\", palette =sns.color_palette(\"crest\", n_colors=20))\n",
    "plt.xlabel(\"Number of accidents\")\n",
    "plt.ylabel(\"County\")\n",
    "plt.show()"
   ]
  },
  {
   "cell_type": "code",
   "execution_count": 436,
   "metadata": {},
   "outputs": [
    {
     "name": "stderr",
     "output_type": "stream",
     "text": [
      "/Users/psuedoche/opt/anaconda3/lib/python3.7/site-packages/seaborn/_decorators.py:43: FutureWarning: Pass the following variables as keyword args: x, y. From version 0.12, the only valid positional argument will be `data`, and passing other arguments without an explicit keyword will result in an error or misinterpretation.\n",
      "  FutureWarning\n"
     ]
    },
    {
     "data": {
      "image/png": "[encoded data removed]",
      "text/plain": [
       "<Figure size 1440x576 with 1 Axes>"
      ]
     },
     "metadata": {
      "needs_background": "light"
     },
     "output_type": "display_data"
    }
   ],
   "source": [
    "weather_counts = df[\"Weather_Condition\"].value_counts()[:10]\n",
    "plt.figure(figsize=(20, 8))\n",
    "plt.title(\"top 10 weather conditions\")\n",
    "sns.barplot(weather_counts.index, weather_counts.values, palette =sns.color_palette(\"crest\", n_colors=20))\n",
    "plt.xlabel(\"Weather Condition\")\n",
    "plt.ylabel(\"Count\")\n",
    "plt.show()"
   ]
  },
  {
   "cell_type": "code",
   "execution_count": 437,
   "metadata": {},
   "outputs": [
    {
     "name": "stderr",
     "output_type": "stream",
     "text": [
      "/Users/psuedoche/opt/anaconda3/lib/python3.7/site-packages/seaborn/_decorators.py:43: FutureWarning: Pass the following variables as keyword args: x, y. From version 0.12, the only valid positional argument will be `data`, and passing other arguments without an explicit keyword will result in an error or misinterpretation.\n",
      "  FutureWarning\n"
     ]
    },
    {
     "data": {
      "image/png": "[encoded data removed]",
      "text/plain": [
       "<Figure size 1440x720 with 1 Axes>"
      ]
     },
     "metadata": {
      "needs_background": "light"
     },
     "output_type": "display_data"
    }
   ],
   "source": [
    "df['No_junction'] = np.where(df['Junction']== False, True, False)\n",
    "road_type = df[['Amenity', 'Traffic_Calming', 'Crossing',\n",
    "       'Give_Way', 'Stop', 'Junction', 'Railway', 'Roundabout',\n",
    "       'Traffic_Signal', 'Turning_Loop', 'No_junction']].sum().sort_values(ascending=False)\n",
    "plt.figure(figsize=(20, 10))\n",
    "plt.title(\"Most frequent road features\")\n",
    "sns.barplot(road_type.values, road_type.index, orient=\"h\",palette =sns.color_palette(\"crest\", n_colors=10))\n",
    "plt.xlabel(\"Value\")\n",
    "plt.ylabel(\"Road feature\")\n",
    "plt.show()"
   ]
  },
  {
   "cell_type": "code",
   "execution_count": 438,
   "metadata": {},
   "outputs": [
    {
     "name": "stderr",
     "output_type": "stream",
     "text": [
      "/Users/psuedoche/opt/anaconda3/lib/python3.7/site-packages/seaborn/_decorators.py:43: FutureWarning: Pass the following variables as keyword args: x, y. From version 0.12, the only valid positional argument will be `data`, and passing other arguments without an explicit keyword will result in an error or misinterpretation.\n",
      "  FutureWarning\n"
     ]
    },
    {
     "data": {
      "image/png": "[encoded data removed]",
      "text/plain": [
       "<Figure size 720x576 with 1 Axes>"
      ]
     },
     "metadata": {
      "needs_background": "light"
     },
     "output_type": "display_data"
    }
   ],
   "source": [
    "severity_counts = df[\"Severity\"].value_counts()\n",
    "\n",
    "plt.figure(figsize=(10, 8))\n",
    "plt.title(\"Num Accidents by Severity\")\n",
    "sns.barplot(severity_counts.index, severity_counts.values, palette =sns.color_palette(\"crest\", n_colors=4))\n",
    "plt.xlabel(\"Severity\")\n",
    "plt.ylabel(\"Count\")\n",
    "plt.show()"
   ]
  },
  {
   "cell_type": "code",
   "execution_count": 439,
   "metadata": {},
   "outputs": [
    {
     "data": {
      "image/png": "[encoded data removed]",
      "text/plain": [
       "<Figure size 1440x720 with 2 Axes>"
      ]
     },
     "metadata": {
      "needs_background": "light"
     },
     "output_type": "display_data"
    }
   ],
   "source": [
    "corr_matrix = df.corr()\n",
    "\n",
    "plt.figure(figsize=(20, 10))\n",
    "sns.heatmap(corr_matrix, vmin=-1, vmax=1, cmap=\"seismic\")\n",
    "\n",
    "plt.show()"
   ]
  },
  {
   "cell_type": "code",
   "execution_count": 440,
   "metadata": {},
   "outputs": [
    {
     "data": {
      "text/plain": [
       "array(['Cloudy', 'Light Rain', 'Fair', 'Mostly Cloudy', 'Haze',\n",
       "       'Overcast', 'Light Snow', 'Partly Cloudy', 'Snow', 'Clear', 'Rain',\n",
       "       'Scattered Clouds', 'Thunder', 'Fog', 'Fair / Windy',\n",
       "       'Thunderstorms and Rain', 'Heavy Rain', nan, 'Light Freezing Rain',\n",
       "       'Wintry Mix', 'Partly Cloudy / Windy', 'Light Snow / Windy',\n",
       "       'Drizzle', 'T-Storm', 'Thunder in the Vicinity', 'Light Drizzle',\n",
       "       'Light Rain / Windy', 'Blowing Snow', 'Smoke', 'Patches of Fog',\n",
       "       'Light Thunderstorms and Rain', 'Shallow Fog',\n",
       "       'Mostly Cloudy / Windy', 'Haze / Windy', 'Cloudy / Windy',\n",
       "       'Thunderstorm', 'Light Rain with Thunder', 'Mist',\n",
       "       'Showers in the Vicinity', 'Rain / Windy', 'Blowing Snow / Windy',\n",
       "       'Rain Shower', 'N/A Precipitation', 'Heavy Thunderstorms and Rain',\n",
       "       'Snow / Windy', 'Heavy Snow', 'Heavy T-Storm',\n",
       "       'Heavy Rain / Windy', 'Light Freezing Drizzle', 'Rain Showers',\n",
       "       'T-Storm / Windy', 'Ice Pellets', 'Light Rain Shower',\n",
       "       'Smoke / Windy', 'Light Freezing Fog', 'Widespread Dust',\n",
       "       'Squalls', 'Drizzle and Fog', 'Heavy Snow / Windy',\n",
       "       'Light Drizzle / Windy', 'Blowing Dust', 'Partial Fog',\n",
       "       'Light Ice Pellets', 'Sand / Dust Whirlwinds', 'Heavy Drizzle',\n",
       "       'Light Rain Shower / Windy', 'Thunder / Windy',\n",
       "       'Blowing Dust / Windy', 'Light Freezing Rain / Windy',\n",
       "       'Sand / Dust Whirls Nearby', 'Fog / Windy', 'Sleet',\n",
       "       'Heavy T-Storm / Windy', 'Light Sleet', 'Freezing Rain',\n",
       "       'Light Snow and Sleet / Windy', 'Volcanic Ash', 'Snow and Sleet',\n",
       "       'Patches of Fog / Windy', 'Heavy Thunderstorms and Snow',\n",
       "       'Snow and Sleet / Windy', 'Small Hail', 'Snow Grains',\n",
       "       'Light Rain Showers', 'Wintry Mix / Windy', 'Heavy Rain Showers',\n",
       "       'Light Haze', 'Tornado', 'Heavy Ice Pellets'], dtype=object)"
      ]
     },
     "execution_count": 440,
     "metadata": {},
     "output_type": "execute_result"
    }
   ],
   "source": [
    "df[\"Weather_Condition\"].unique()"
   ]
  },
  {
   "cell_type": "code",
   "execution_count": 441,
   "metadata": {},
   "outputs": [],
   "source": [
    "df.loc[df[\"Weather_Condition\"].str.contains(\"Fair\", na=False), \"Weather_Condition\"] = \"Clear\"\n",
    "df.loc[df[\"Weather_Condition\"].str.contains(\"Rain|Drizzle|Shower|N/A Precipitation\", na=False), \"Weather_Condition\"] = \"Rain\"\n",
    "df.loc[df[\"Weather_Condition\"].str.contains(\"Cloud|Overcast\", na=False), \"Weather_Condition\"] = \"Cloudy\"\n",
    "df.loc[df[\"Weather_Condition\"].str.contains(\"Thunder|T-Storm\", na=False), \"Weather_Condition\"] = \"Thunderstorm\"\n",
    "df.loc[df[\"Weather_Condition\"].str.contains(\"Snow|Sleet|Wintry\", na=False), \"Weather_Condition\"] = \"Snow\"\n",
    "df.loc[df[\"Weather_Condition\"].str.contains(\"Wind|Squalls|Tornado\", na=False), \"Weather_Condition\"] = \"Wind\"\n",
    "df.loc[df[\"Weather_Condition\"].str.contains(\"Hail|Pellets\", na=False), \"Weather_Condition\"] = \"Hail\"\n",
    "df.loc[df[\"Weather_Condition\"].str.contains(\"Mist|Haze|Fog\", na=False), \"Weather_Condition\"] = \"Fog\"\n",
    "df.loc[df[\"Weather_Condition\"].str.contains(\"Sand|Dust\", na=False), \"Weather_Condition\"] = \"Sand\"\n",
    "df.loc[df[\"Weather_Condition\"].str.contains(\"Smoke|Volcanic Ash\", na=False), \"Weather_Condition\"] = \"Smoke\"\n",
    "df[\"Weather_Condition\"].dropna(inplace=True)"
   ]
  },
  {
   "cell_type": "code",
   "execution_count": 510,
   "metadata": {},
   "outputs": [
    {
     "data": {
      "text/plain": [
       "array(['Cloudy', 'Rain', 'Clear', 'Fog', 'Snow', 'Thunderstorm', nan,\n",
       "       'Smoke', 'Wind', 'Hail', 'Sand'], dtype=object)"
      ]
     },
     "execution_count": 510,
     "metadata": {},
     "output_type": "execute_result"
    }
   ],
   "source": [
    "df[\"Weather_Condition\"].unique()"
   ]
  },
  {
   "cell_type": "code",
   "execution_count": 508,
   "metadata": {},
   "outputs": [
    {
     "name": "stderr",
     "output_type": "stream",
     "text": [
      "/Users/psuedoche/opt/anaconda3/lib/python3.7/site-packages/seaborn/_decorators.py:43: FutureWarning: Pass the following variables as keyword args: x, y. From version 0.12, the only valid positional argument will be `data`, and passing other arguments without an explicit keyword will result in an error or misinterpretation.\n",
      "  FutureWarning\n"
     ]
    },
    {
     "data": {
      "image/png": "[encoded data removed]",
      "text/plain": [
       "<Figure size 1440x576 with 1 Axes>"
      ]
     },
     "metadata": {
      "needs_background": "light"
     },
     "output_type": "display_data"
    }
   ],
   "source": [
    "df[\"Weather_Condition\"].unique()\n",
    "weather_counts = df[\"Weather_Condition\"].value_counts()[:10]\n",
    "plt.figure(figsize=(20, 8))\n",
    "plt.title(\"top 10 weather conditions\")\n",
    "sns.barplot(weather_counts.index, weather_counts.values, palette =sns.color_palette(\"crest\", n_colors=20))\n",
    "plt.xlabel(\"Weather Condition\")\n",
    "plt.ylabel(\"Count\")\n",
    "plt.show()"
   ]
  },
  {
   "cell_type": "markdown",
   "metadata": {},
   "source": [
    "## Preliminary models\n",
    "\n",
    "Using quantitative weather variables only to predict severity of accident. Linear and logistic regression are used."
   ]
  },
  {
   "cell_type": "code",
   "execution_count": 443,
   "metadata": {},
   "outputs": [
    {
     "data": {
      "text/html": [
       "<div>\n",
       "<style scoped>\n",
       "    .dataframe tbody tr th:only-of-type {\n",
       "        vertical-align: middle;\n",
       "    }\n",
       "\n",
       "    .dataframe tbody tr th {\n",
       "        vertical-align: top;\n",
       "    }\n",
       "\n",
       "    .dataframe thead th {\n",
       "        text-align: right;\n",
       "    }\n",
       "</style>\n",
       "<table border=\"1\" class=\"dataframe\">\n",
       "  <thead>\n",
       "    <tr style=\"text-align: right;\">\n",
       "      <th></th>\n",
       "      <th>Wind_Chill(F)</th>\n",
       "      <th>Humidity(%)</th>\n",
       "      <th>Pressure(in)</th>\n",
       "      <th>Visibility(mi)</th>\n",
       "      <th>Wind_Speed(mph)</th>\n",
       "      <th>Precipitation(in)</th>\n",
       "      <th>Severity</th>\n",
       "    </tr>\n",
       "  </thead>\n",
       "  <tbody>\n",
       "    <tr>\n",
       "      <th>0</th>\n",
       "      <td>83.0</td>\n",
       "      <td>54.0</td>\n",
       "      <td>29.96</td>\n",
       "      <td>10.0</td>\n",
       "      <td>20.0</td>\n",
       "      <td>0.00</td>\n",
       "      <td>2</td>\n",
       "    </tr>\n",
       "    <tr>\n",
       "      <th>1</th>\n",
       "      <td>74.0</td>\n",
       "      <td>91.0</td>\n",
       "      <td>30.02</td>\n",
       "      <td>7.0</td>\n",
       "      <td>7.0</td>\n",
       "      <td>0.39</td>\n",
       "      <td>2</td>\n",
       "    </tr>\n",
       "    <tr>\n",
       "      <th>2</th>\n",
       "      <td>29.0</td>\n",
       "      <td>92.0</td>\n",
       "      <td>28.98</td>\n",
       "      <td>10.0</td>\n",
       "      <td>5.0</td>\n",
       "      <td>0.00</td>\n",
       "      <td>2</td>\n",
       "    </tr>\n",
       "    <tr>\n",
       "      <th>3</th>\n",
       "      <td>63.0</td>\n",
       "      <td>72.0</td>\n",
       "      <td>28.97</td>\n",
       "      <td>10.0</td>\n",
       "      <td>3.0</td>\n",
       "      <td>0.00</td>\n",
       "      <td>2</td>\n",
       "    </tr>\n",
       "    <tr>\n",
       "      <th>4</th>\n",
       "      <td>19.0</td>\n",
       "      <td>78.0</td>\n",
       "      <td>29.13</td>\n",
       "      <td>6.0</td>\n",
       "      <td>7.0</td>\n",
       "      <td>0.00</td>\n",
       "      <td>2</td>\n",
       "    </tr>\n",
       "    <tr>\n",
       "      <th>...</th>\n",
       "      <td>...</td>\n",
       "      <td>...</td>\n",
       "      <td>...</td>\n",
       "      <td>...</td>\n",
       "      <td>...</td>\n",
       "      <td>...</td>\n",
       "      <td>...</td>\n",
       "    </tr>\n",
       "    <tr>\n",
       "      <th>199994</th>\n",
       "      <td>54.0</td>\n",
       "      <td>62.0</td>\n",
       "      <td>29.83</td>\n",
       "      <td>10.0</td>\n",
       "      <td>8.0</td>\n",
       "      <td>0.00</td>\n",
       "      <td>2</td>\n",
       "    </tr>\n",
       "    <tr>\n",
       "      <th>199995</th>\n",
       "      <td>87.0</td>\n",
       "      <td>53.0</td>\n",
       "      <td>29.08</td>\n",
       "      <td>10.0</td>\n",
       "      <td>16.0</td>\n",
       "      <td>0.00</td>\n",
       "      <td>2</td>\n",
       "    </tr>\n",
       "    <tr>\n",
       "      <th>199997</th>\n",
       "      <td>32.0</td>\n",
       "      <td>52.0</td>\n",
       "      <td>27.36</td>\n",
       "      <td>10.0</td>\n",
       "      <td>13.0</td>\n",
       "      <td>0.00</td>\n",
       "      <td>2</td>\n",
       "    </tr>\n",
       "    <tr>\n",
       "      <th>199998</th>\n",
       "      <td>38.0</td>\n",
       "      <td>89.0</td>\n",
       "      <td>29.35</td>\n",
       "      <td>8.0</td>\n",
       "      <td>0.0</td>\n",
       "      <td>0.00</td>\n",
       "      <td>2</td>\n",
       "    </tr>\n",
       "    <tr>\n",
       "      <th>199999</th>\n",
       "      <td>63.0</td>\n",
       "      <td>52.0</td>\n",
       "      <td>29.93</td>\n",
       "      <td>10.0</td>\n",
       "      <td>0.0</td>\n",
       "      <td>0.00</td>\n",
       "      <td>2</td>\n",
       "    </tr>\n",
       "  </tbody>\n",
       "</table>\n",
       "<p>124598 rows × 7 columns</p>\n",
       "</div>"
      ],
      "text/plain": [
       "        Wind_Chill(F)  Humidity(%)  Pressure(in)  Visibility(mi)  \\\n",
       "0                83.0         54.0         29.96            10.0   \n",
       "1                74.0         91.0         30.02             7.0   \n",
       "2                29.0         92.0         28.98            10.0   \n",
       "3                63.0         72.0         28.97            10.0   \n",
       "4                19.0         78.0         29.13             6.0   \n",
       "...               ...          ...           ...             ...   \n",
       "199994           54.0         62.0         29.83            10.0   \n",
       "199995           87.0         53.0         29.08            10.0   \n",
       "199997           32.0         52.0         27.36            10.0   \n",
       "199998           38.0         89.0         29.35             8.0   \n",
       "199999           63.0         52.0         29.93            10.0   \n",
       "\n",
       "        Wind_Speed(mph)  Precipitation(in)  Severity  \n",
       "0                  20.0               0.00         2  \n",
       "1                   7.0               0.39         2  \n",
       "2                   5.0               0.00         2  \n",
       "3                   3.0               0.00         2  \n",
       "4                   7.0               0.00         2  \n",
       "...                 ...                ...       ...  \n",
       "199994              8.0               0.00         2  \n",
       "199995             16.0               0.00         2  \n",
       "199997             13.0               0.00         2  \n",
       "199998              0.0               0.00         2  \n",
       "199999              0.0               0.00         2  \n",
       "\n",
       "[124598 rows x 7 columns]"
      ]
     },
     "execution_count": 443,
     "metadata": {},
     "output_type": "execute_result"
    }
   ],
   "source": [
    "df1 = df[['Wind_Chill(F)', 'Humidity(%)', 'Pressure(in)', 'Visibility(mi)',\n",
    "      'Wind_Speed(mph)', 'Precipitation(in)','Severity']]\n",
    "df1 = df1.dropna()\n",
    "df1"
   ]
  },
  {
   "cell_type": "code",
   "execution_count": 444,
   "metadata": {},
   "outputs": [
    {
     "name": "stdout",
     "output_type": "stream",
     "text": [
      "MSE: 0.2692123009388344 r^2: 0.007956351873175893\n"
     ]
    },
    {
     "data": {
      "text/plain": [
       "array([ 0.00038482,  0.00147051, -0.02356395,  0.00011993,  0.00563574,\n",
       "        0.00775582])"
      ]
     },
     "execution_count": 444,
     "metadata": {},
     "output_type": "execute_result"
    }
   ],
   "source": [
    "from sklearn.linear_model import LinearRegression\n",
    "from sklearn.metrics import mean_squared_error\n",
    "from sklearn.metrics import r2_score\n",
    "\n",
    "linear_model = LinearRegression()\n",
    "data = df1.drop(columns = [\"Severity\"], axis = 1).values\n",
    "\n",
    "target = df1[\"Severity\"].values\n",
    "linear_model.fit(X=data, y=target)\n",
    "\n",
    "df1[\"predicted\"] = linear_model.predict(data)\n",
    "\n",
    "q1_mse = mean_squared_error(df1[\"Severity\"].values,df1[\"predicted\"].values) # float: MSE\n",
    "q1_r2 = r2_score(df1[\"Severity\"].values, df1[\"predicted\"].values) # float: R^2 score\n",
    "\n",
    "\n",
    "print(\"MSE:\", q1_mse, \"r^2:\", q1_r2)\n",
    "linear_model.coef_"
   ]
  },
  {
   "cell_type": "code",
   "execution_count": 445,
   "metadata": {},
   "outputs": [
    {
     "name": "stdout",
     "output_type": "stream",
     "text": [
      "[ 76565 175325 139388 ... 131078 162836 104746]\n"
     ]
    }
   ],
   "source": [
    "remove_n = 100000\n",
    "drop_indices = np.random.choice(df1[df1['Severity']==2].index, remove_n, replace=False)\n",
    "print(drop_indices)\n",
    "df1 = df1.drop(drop_indices)"
   ]
  },
  {
   "cell_type": "markdown",
   "metadata": {},
   "source": [
    "To balance the data, randomly drop some of the accidents with severity of level 2. "
   ]
  },
  {
   "cell_type": "code",
   "execution_count": 446,
   "metadata": {},
   "outputs": [
    {
     "data": {
      "text/html": [
       "<div>\n",
       "<style scoped>\n",
       "    .dataframe tbody tr th:only-of-type {\n",
       "        vertical-align: middle;\n",
       "    }\n",
       "\n",
       "    .dataframe tbody tr th {\n",
       "        vertical-align: top;\n",
       "    }\n",
       "\n",
       "    .dataframe thead th {\n",
       "        text-align: right;\n",
       "    }\n",
       "</style>\n",
       "<table border=\"1\" class=\"dataframe\">\n",
       "  <thead>\n",
       "    <tr style=\"text-align: right;\">\n",
       "      <th></th>\n",
       "      <th>Wind_Chill(F)</th>\n",
       "      <th>Humidity(%)</th>\n",
       "      <th>Pressure(in)</th>\n",
       "      <th>Visibility(mi)</th>\n",
       "      <th>Wind_Speed(mph)</th>\n",
       "      <th>Precipitation(in)</th>\n",
       "      <th>Severity</th>\n",
       "      <th>predicted</th>\n",
       "    </tr>\n",
       "  </thead>\n",
       "  <tbody>\n",
       "    <tr>\n",
       "      <th>1</th>\n",
       "      <td>74.0</td>\n",
       "      <td>91.0</td>\n",
       "      <td>30.02</td>\n",
       "      <td>7.0</td>\n",
       "      <td>7.0</td>\n",
       "      <td>0.39</td>\n",
       "      <td>2</td>\n",
       "      <td>2.171394</td>\n",
       "    </tr>\n",
       "    <tr>\n",
       "      <th>2</th>\n",
       "      <td>29.0</td>\n",
       "      <td>92.0</td>\n",
       "      <td>28.98</td>\n",
       "      <td>10.0</td>\n",
       "      <td>5.0</td>\n",
       "      <td>0.00</td>\n",
       "      <td>2</td>\n",
       "      <td>2.166118</td>\n",
       "    </tr>\n",
       "    <tr>\n",
       "      <th>6</th>\n",
       "      <td>66.0</td>\n",
       "      <td>28.0</td>\n",
       "      <td>29.00</td>\n",
       "      <td>10.0</td>\n",
       "      <td>3.0</td>\n",
       "      <td>0.00</td>\n",
       "      <td>3</td>\n",
       "      <td>2.074501</td>\n",
       "    </tr>\n",
       "    <tr>\n",
       "      <th>7</th>\n",
       "      <td>14.0</td>\n",
       "      <td>89.0</td>\n",
       "      <td>29.03</td>\n",
       "      <td>1.0</td>\n",
       "      <td>18.0</td>\n",
       "      <td>0.00</td>\n",
       "      <td>3</td>\n",
       "      <td>2.226941</td>\n",
       "    </tr>\n",
       "    <tr>\n",
       "      <th>11</th>\n",
       "      <td>26.0</td>\n",
       "      <td>85.0</td>\n",
       "      <td>28.96</td>\n",
       "      <td>10.0</td>\n",
       "      <td>7.0</td>\n",
       "      <td>0.00</td>\n",
       "      <td>3</td>\n",
       "      <td>2.166412</td>\n",
       "    </tr>\n",
       "    <tr>\n",
       "      <th>...</th>\n",
       "      <td>...</td>\n",
       "      <td>...</td>\n",
       "      <td>...</td>\n",
       "      <td>...</td>\n",
       "      <td>...</td>\n",
       "      <td>...</td>\n",
       "      <td>...</td>\n",
       "      <td>...</td>\n",
       "    </tr>\n",
       "    <tr>\n",
       "      <th>199963</th>\n",
       "      <td>77.0</td>\n",
       "      <td>71.0</td>\n",
       "      <td>30.24</td>\n",
       "      <td>10.0</td>\n",
       "      <td>16.0</td>\n",
       "      <td>0.00</td>\n",
       "      <td>4</td>\n",
       "      <td>2.186011</td>\n",
       "    </tr>\n",
       "    <tr>\n",
       "      <th>199974</th>\n",
       "      <td>81.0</td>\n",
       "      <td>52.0</td>\n",
       "      <td>30.08</td>\n",
       "      <td>10.0</td>\n",
       "      <td>18.0</td>\n",
       "      <td>0.00</td>\n",
       "      <td>1</td>\n",
       "      <td>2.174652</td>\n",
       "    </tr>\n",
       "    <tr>\n",
       "      <th>199980</th>\n",
       "      <td>76.0</td>\n",
       "      <td>76.0</td>\n",
       "      <td>30.09</td>\n",
       "      <td>10.0</td>\n",
       "      <td>9.0</td>\n",
       "      <td>0.00</td>\n",
       "      <td>3</td>\n",
       "      <td>2.157063</td>\n",
       "    </tr>\n",
       "    <tr>\n",
       "      <th>199983</th>\n",
       "      <td>23.0</td>\n",
       "      <td>86.0</td>\n",
       "      <td>23.61</td>\n",
       "      <td>2.0</td>\n",
       "      <td>5.0</td>\n",
       "      <td>0.00</td>\n",
       "      <td>3</td>\n",
       "      <td>2.280565</td>\n",
       "    </tr>\n",
       "    <tr>\n",
       "      <th>199995</th>\n",
       "      <td>87.0</td>\n",
       "      <td>53.0</td>\n",
       "      <td>29.08</td>\n",
       "      <td>10.0</td>\n",
       "      <td>16.0</td>\n",
       "      <td>0.00</td>\n",
       "      <td>2</td>\n",
       "      <td>2.190724</td>\n",
       "    </tr>\n",
       "  </tbody>\n",
       "</table>\n",
       "<p>24598 rows × 8 columns</p>\n",
       "</div>"
      ],
      "text/plain": [
       "        Wind_Chill(F)  Humidity(%)  Pressure(in)  Visibility(mi)  \\\n",
       "1                74.0         91.0         30.02             7.0   \n",
       "2                29.0         92.0         28.98            10.0   \n",
       "6                66.0         28.0         29.00            10.0   \n",
       "7                14.0         89.0         29.03             1.0   \n",
       "11               26.0         85.0         28.96            10.0   \n",
       "...               ...          ...           ...             ...   \n",
       "199963           77.0         71.0         30.24            10.0   \n",
       "199974           81.0         52.0         30.08            10.0   \n",
       "199980           76.0         76.0         30.09            10.0   \n",
       "199983           23.0         86.0         23.61             2.0   \n",
       "199995           87.0         53.0         29.08            10.0   \n",
       "\n",
       "        Wind_Speed(mph)  Precipitation(in)  Severity  predicted  \n",
       "1                   7.0               0.39         2   2.171394  \n",
       "2                   5.0               0.00         2   2.166118  \n",
       "6                   3.0               0.00         3   2.074501  \n",
       "7                  18.0               0.00         3   2.226941  \n",
       "11                  7.0               0.00         3   2.166412  \n",
       "...                 ...                ...       ...        ...  \n",
       "199963             16.0               0.00         4   2.186011  \n",
       "199974             18.0               0.00         1   2.174652  \n",
       "199980              9.0               0.00         3   2.157063  \n",
       "199983              5.0               0.00         3   2.280565  \n",
       "199995             16.0               0.00         2   2.190724  \n",
       "\n",
       "[24598 rows x 8 columns]"
      ]
     },
     "execution_count": 446,
     "metadata": {},
     "output_type": "execute_result"
    }
   ],
   "source": [
    "from sklearn.model_selection import train_test_split\n",
    "data = df1.drop(columns=[\"Severity\"])\n",
    "target = df1[\"Severity\"]\n",
    "train_data, test_data, train_target, test_target = train_test_split(\n",
    "    data, target, test_size=0.7, random_state=2022)\n",
    "\n",
    "df1"
   ]
  },
  {
   "cell_type": "code",
   "execution_count": 447,
   "metadata": {},
   "outputs": [
    {
     "name": "stderr",
     "output_type": "stream",
     "text": [
      "/Users/psuedoche/opt/anaconda3/lib/python3.7/site-packages/sklearn/linear_model/_logistic.py:940: ConvergenceWarning: lbfgs failed to converge (status=1):\n",
      "STOP: TOTAL NO. of ITERATIONS REACHED LIMIT.\n",
      "\n",
      "Increase the number of iterations (max_iter) or scale the data as shown in:\n",
      "    https://scikit-learn.org/stable/modules/preprocessing.html\n",
      "Please also refer to the documentation for alternative solver options:\n",
      "    https://scikit-learn.org/stable/modules/linear_model.html#logistic-regression\n",
      "  extra_warning_msg=_LOGISTIC_SOLVER_CONVERGENCE_MSG)\n"
     ]
    },
    {
     "name": "stdout",
     "output_type": "stream",
     "text": [
      "accuracy: 0.4024043208084093\n",
      "[[ 395  354 1548    8]\n",
      " [ 156 1651 2567   27]\n",
      " [ 158 1225 4865   24]\n",
      " [ 111 1273 2839   18]]\n"
     ]
    },
    {
     "data": {
      "image/png": "[encoded data removed]",
      "text/plain": [
       "<Figure size 432x288 with 2 Axes>"
      ]
     },
     "metadata": {
      "needs_background": "light"
     },
     "output_type": "display_data"
    }
   ],
   "source": [
    "from sklearn.linear_model import LogisticRegression\n",
    "from sklearn.metrics import accuracy_score\n",
    "from sklearn.metrics import confusion_matrix, ConfusionMatrixDisplay\n",
    "from sklearn.metrics import plot_confusion_matrix\n",
    "\n",
    "#perform logistic regression\n",
    "logistic_model = LogisticRegression()\n",
    "logistic_model.fit(X=train_data, y=train_target)\n",
    "\n",
    "# get predictions and accuracy\n",
    "predictions = logistic_model.predict(test_data)\n",
    "acc_score = accuracy_score(test_target, predictions)\n",
    "\n",
    "# Leave this line here to print the result\n",
    "print(\"accuracy:\", acc_score)\n",
    "con_matrix = confusion_matrix(test_target, predictions)\n",
    "\n",
    "print(con_matrix)\n",
    "disp = ConfusionMatrixDisplay(confusion_matrix=con_matrix, display_labels=[1,2,3,4])\n",
    "disp.plot()\n",
    "plt.show()"
   ]
  },
  {
   "cell_type": "markdown",
   "metadata": {},
   "source": [
    "# Predictive models using sci-kit learn\n",
    "\n",
    "first, encode the categorical variables."
   ]
  },
  {
   "cell_type": "code",
   "execution_count": 494,
   "metadata": {},
   "outputs": [
    {
     "data": {
      "text/html": [
       "<div>\n",
       "<style scoped>\n",
       "    .dataframe tbody tr th:only-of-type {\n",
       "        vertical-align: middle;\n",
       "    }\n",
       "\n",
       "    .dataframe tbody tr th {\n",
       "        vertical-align: top;\n",
       "    }\n",
       "\n",
       "    .dataframe thead th {\n",
       "        text-align: right;\n",
       "    }\n",
       "</style>\n",
       "<table border=\"1\" class=\"dataframe\">\n",
       "  <thead>\n",
       "    <tr style=\"text-align: right;\">\n",
       "      <th></th>\n",
       "      <th>Severity</th>\n",
       "      <th>Distance(mi)</th>\n",
       "      <th>County</th>\n",
       "      <th>Temperature(F)</th>\n",
       "      <th>Wind_Chill(F)</th>\n",
       "      <th>Humidity(%)</th>\n",
       "      <th>Pressure(in)</th>\n",
       "      <th>Visibility(mi)</th>\n",
       "      <th>Wind_Speed(mph)</th>\n",
       "      <th>Precipitation(in)</th>\n",
       "      <th>...</th>\n",
       "      <th>Crossing</th>\n",
       "      <th>Give_Way</th>\n",
       "      <th>Stop</th>\n",
       "      <th>Junction</th>\n",
       "      <th>Railway</th>\n",
       "      <th>Roundabout</th>\n",
       "      <th>Traffic_Signal</th>\n",
       "      <th>No_junction</th>\n",
       "      <th>Month</th>\n",
       "      <th>Year</th>\n",
       "    </tr>\n",
       "  </thead>\n",
       "  <tbody>\n",
       "    <tr>\n",
       "      <th>0</th>\n",
       "      <td>2</td>\n",
       "      <td>0.121</td>\n",
       "      <td>Orange</td>\n",
       "      <td>83.0</td>\n",
       "      <td>83.0</td>\n",
       "      <td>54.0</td>\n",
       "      <td>29.96</td>\n",
       "      <td>10.0</td>\n",
       "      <td>20.0</td>\n",
       "      <td>0.00</td>\n",
       "      <td>...</td>\n",
       "      <td>0</td>\n",
       "      <td>0</td>\n",
       "      <td>0</td>\n",
       "      <td>0</td>\n",
       "      <td>0</td>\n",
       "      <td>0</td>\n",
       "      <td>0</td>\n",
       "      <td>1</td>\n",
       "      <td>9</td>\n",
       "      <td>2020</td>\n",
       "    </tr>\n",
       "    <tr>\n",
       "      <th>1</th>\n",
       "      <td>2</td>\n",
       "      <td>0.000</td>\n",
       "      <td>Palm Beach</td>\n",
       "      <td>74.0</td>\n",
       "      <td>74.0</td>\n",
       "      <td>91.0</td>\n",
       "      <td>30.02</td>\n",
       "      <td>7.0</td>\n",
       "      <td>7.0</td>\n",
       "      <td>0.39</td>\n",
       "      <td>...</td>\n",
       "      <td>0</td>\n",
       "      <td>0</td>\n",
       "      <td>0</td>\n",
       "      <td>0</td>\n",
       "      <td>0</td>\n",
       "      <td>0</td>\n",
       "      <td>0</td>\n",
       "      <td>1</td>\n",
       "      <td>4</td>\n",
       "      <td>2020</td>\n",
       "    </tr>\n",
       "    <tr>\n",
       "      <th>2</th>\n",
       "      <td>2</td>\n",
       "      <td>0.495</td>\n",
       "      <td>Chisago</td>\n",
       "      <td>33.0</td>\n",
       "      <td>29.0</td>\n",
       "      <td>92.0</td>\n",
       "      <td>28.98</td>\n",
       "      <td>10.0</td>\n",
       "      <td>5.0</td>\n",
       "      <td>0.00</td>\n",
       "      <td>...</td>\n",
       "      <td>0</td>\n",
       "      <td>0</td>\n",
       "      <td>0</td>\n",
       "      <td>0</td>\n",
       "      <td>0</td>\n",
       "      <td>0</td>\n",
       "      <td>0</td>\n",
       "      <td>1</td>\n",
       "      <td>11</td>\n",
       "      <td>2020</td>\n",
       "    </tr>\n",
       "    <tr>\n",
       "      <th>3</th>\n",
       "      <td>2</td>\n",
       "      <td>0.000</td>\n",
       "      <td>Los Angeles</td>\n",
       "      <td>63.0</td>\n",
       "      <td>63.0</td>\n",
       "      <td>72.0</td>\n",
       "      <td>28.97</td>\n",
       "      <td>10.0</td>\n",
       "      <td>3.0</td>\n",
       "      <td>0.00</td>\n",
       "      <td>...</td>\n",
       "      <td>0</td>\n",
       "      <td>0</td>\n",
       "      <td>0</td>\n",
       "      <td>0</td>\n",
       "      <td>0</td>\n",
       "      <td>0</td>\n",
       "      <td>0</td>\n",
       "      <td>1</td>\n",
       "      <td>10</td>\n",
       "      <td>2019</td>\n",
       "    </tr>\n",
       "    <tr>\n",
       "      <th>4</th>\n",
       "      <td>2</td>\n",
       "      <td>0.012</td>\n",
       "      <td>Carver</td>\n",
       "      <td>27.0</td>\n",
       "      <td>19.0</td>\n",
       "      <td>78.0</td>\n",
       "      <td>29.13</td>\n",
       "      <td>6.0</td>\n",
       "      <td>7.0</td>\n",
       "      <td>0.00</td>\n",
       "      <td>...</td>\n",
       "      <td>1</td>\n",
       "      <td>0</td>\n",
       "      <td>0</td>\n",
       "      <td>0</td>\n",
       "      <td>0</td>\n",
       "      <td>0</td>\n",
       "      <td>1</td>\n",
       "      <td>1</td>\n",
       "      <td>12</td>\n",
       "      <td>2020</td>\n",
       "    </tr>\n",
       "    <tr>\n",
       "      <th>...</th>\n",
       "      <td>...</td>\n",
       "      <td>...</td>\n",
       "      <td>...</td>\n",
       "      <td>...</td>\n",
       "      <td>...</td>\n",
       "      <td>...</td>\n",
       "      <td>...</td>\n",
       "      <td>...</td>\n",
       "      <td>...</td>\n",
       "      <td>...</td>\n",
       "      <td>...</td>\n",
       "      <td>...</td>\n",
       "      <td>...</td>\n",
       "      <td>...</td>\n",
       "      <td>...</td>\n",
       "      <td>...</td>\n",
       "      <td>...</td>\n",
       "      <td>...</td>\n",
       "      <td>...</td>\n",
       "      <td>...</td>\n",
       "      <td>...</td>\n",
       "    </tr>\n",
       "    <tr>\n",
       "      <th>199995</th>\n",
       "      <td>2</td>\n",
       "      <td>0.062</td>\n",
       "      <td>Clay</td>\n",
       "      <td>87.0</td>\n",
       "      <td>87.0</td>\n",
       "      <td>53.0</td>\n",
       "      <td>29.08</td>\n",
       "      <td>10.0</td>\n",
       "      <td>16.0</td>\n",
       "      <td>0.00</td>\n",
       "      <td>...</td>\n",
       "      <td>0</td>\n",
       "      <td>0</td>\n",
       "      <td>0</td>\n",
       "      <td>0</td>\n",
       "      <td>0</td>\n",
       "      <td>0</td>\n",
       "      <td>0</td>\n",
       "      <td>1</td>\n",
       "      <td>9</td>\n",
       "      <td>2019</td>\n",
       "    </tr>\n",
       "    <tr>\n",
       "      <th>199996</th>\n",
       "      <td>2</td>\n",
       "      <td>0.010</td>\n",
       "      <td>Los Angeles</td>\n",
       "      <td>NaN</td>\n",
       "      <td>NaN</td>\n",
       "      <td>NaN</td>\n",
       "      <td>NaN</td>\n",
       "      <td>NaN</td>\n",
       "      <td>NaN</td>\n",
       "      <td>NaN</td>\n",
       "      <td>...</td>\n",
       "      <td>0</td>\n",
       "      <td>0</td>\n",
       "      <td>0</td>\n",
       "      <td>0</td>\n",
       "      <td>0</td>\n",
       "      <td>0</td>\n",
       "      <td>1</td>\n",
       "      <td>1</td>\n",
       "      <td>11</td>\n",
       "      <td>2020</td>\n",
       "    </tr>\n",
       "    <tr>\n",
       "      <th>199997</th>\n",
       "      <td>2</td>\n",
       "      <td>1.884</td>\n",
       "      <td>Malheur</td>\n",
       "      <td>39.0</td>\n",
       "      <td>32.0</td>\n",
       "      <td>52.0</td>\n",
       "      <td>27.36</td>\n",
       "      <td>10.0</td>\n",
       "      <td>13.0</td>\n",
       "      <td>0.00</td>\n",
       "      <td>...</td>\n",
       "      <td>0</td>\n",
       "      <td>0</td>\n",
       "      <td>0</td>\n",
       "      <td>0</td>\n",
       "      <td>0</td>\n",
       "      <td>0</td>\n",
       "      <td>0</td>\n",
       "      <td>1</td>\n",
       "      <td>10</td>\n",
       "      <td>2019</td>\n",
       "    </tr>\n",
       "    <tr>\n",
       "      <th>199998</th>\n",
       "      <td>2</td>\n",
       "      <td>2.000</td>\n",
       "      <td>Davidson</td>\n",
       "      <td>38.0</td>\n",
       "      <td>38.0</td>\n",
       "      <td>89.0</td>\n",
       "      <td>29.35</td>\n",
       "      <td>8.0</td>\n",
       "      <td>0.0</td>\n",
       "      <td>0.00</td>\n",
       "      <td>...</td>\n",
       "      <td>0</td>\n",
       "      <td>0</td>\n",
       "      <td>0</td>\n",
       "      <td>1</td>\n",
       "      <td>0</td>\n",
       "      <td>0</td>\n",
       "      <td>0</td>\n",
       "      <td>0</td>\n",
       "      <td>12</td>\n",
       "      <td>2020</td>\n",
       "    </tr>\n",
       "    <tr>\n",
       "      <th>199999</th>\n",
       "      <td>2</td>\n",
       "      <td>0.137</td>\n",
       "      <td>Los Angeles</td>\n",
       "      <td>63.0</td>\n",
       "      <td>63.0</td>\n",
       "      <td>52.0</td>\n",
       "      <td>29.93</td>\n",
       "      <td>10.0</td>\n",
       "      <td>0.0</td>\n",
       "      <td>0.00</td>\n",
       "      <td>...</td>\n",
       "      <td>0</td>\n",
       "      <td>0</td>\n",
       "      <td>0</td>\n",
       "      <td>0</td>\n",
       "      <td>0</td>\n",
       "      <td>0</td>\n",
       "      <td>1</td>\n",
       "      <td>1</td>\n",
       "      <td>11</td>\n",
       "      <td>2020</td>\n",
       "    </tr>\n",
       "  </tbody>\n",
       "</table>\n",
       "<p>200000 rows × 23 columns</p>\n",
       "</div>"
      ],
      "text/plain": [
       "        Severity  Distance(mi)       County  Temperature(F)  Wind_Chill(F)  \\\n",
       "0              2         0.121       Orange            83.0           83.0   \n",
       "1              2         0.000   Palm Beach            74.0           74.0   \n",
       "2              2         0.495      Chisago            33.0           29.0   \n",
       "3              2         0.000  Los Angeles            63.0           63.0   \n",
       "4              2         0.012       Carver            27.0           19.0   \n",
       "...          ...           ...          ...             ...            ...   \n",
       "199995         2         0.062         Clay            87.0           87.0   \n",
       "199996         2         0.010  Los Angeles             NaN            NaN   \n",
       "199997         2         1.884      Malheur            39.0           32.0   \n",
       "199998         2         2.000     Davidson            38.0           38.0   \n",
       "199999         2         0.137  Los Angeles            63.0           63.0   \n",
       "\n",
       "        Humidity(%)  Pressure(in)  Visibility(mi)  Wind_Speed(mph)  \\\n",
       "0              54.0         29.96            10.0             20.0   \n",
       "1              91.0         30.02             7.0              7.0   \n",
       "2              92.0         28.98            10.0              5.0   \n",
       "3              72.0         28.97            10.0              3.0   \n",
       "4              78.0         29.13             6.0              7.0   \n",
       "...             ...           ...             ...              ...   \n",
       "199995         53.0         29.08            10.0             16.0   \n",
       "199996          NaN           NaN             NaN              NaN   \n",
       "199997         52.0         27.36            10.0             13.0   \n",
       "199998         89.0         29.35             8.0              0.0   \n",
       "199999         52.0         29.93            10.0              0.0   \n",
       "\n",
       "        Precipitation(in)  ... Crossing  Give_Way  Stop  Junction  Railway  \\\n",
       "0                    0.00  ...        0         0     0         0        0   \n",
       "1                    0.39  ...        0         0     0         0        0   \n",
       "2                    0.00  ...        0         0     0         0        0   \n",
       "3                    0.00  ...        0         0     0         0        0   \n",
       "4                    0.00  ...        1         0     0         0        0   \n",
       "...                   ...  ...      ...       ...   ...       ...      ...   \n",
       "199995               0.00  ...        0         0     0         0        0   \n",
       "199996                NaN  ...        0         0     0         0        0   \n",
       "199997               0.00  ...        0         0     0         0        0   \n",
       "199998               0.00  ...        0         0     0         1        0   \n",
       "199999               0.00  ...        0         0     0         0        0   \n",
       "\n",
       "        Roundabout  Traffic_Signal  No_junction  Month  Year  \n",
       "0                0               0            1      9  2020  \n",
       "1                0               0            1      4  2020  \n",
       "2                0               0            1     11  2020  \n",
       "3                0               0            1     10  2019  \n",
       "4                0               1            1     12  2020  \n",
       "...            ...             ...          ...    ...   ...  \n",
       "199995           0               0            1      9  2019  \n",
       "199996           0               1            1     11  2020  \n",
       "199997           0               0            1     10  2019  \n",
       "199998           0               0            0     12  2020  \n",
       "199999           0               1            1     11  2020  \n",
       "\n",
       "[200000 rows x 23 columns]"
      ]
     },
     "execution_count": 494,
     "metadata": {},
     "output_type": "execute_result"
    }
   ],
   "source": [
    "df2 = df\n",
    "df2 = df.replace([True, False], [1, 0])\n",
    "df2[\"Month\"] = df[\"Start_Time\"].dt.month\n",
    "df2[\"Year\"] = df[\"Start_Time\"].dt.year\n",
    "df2.drop(columns = [\"ID\",\"Start_Time\", \"End_Time\",\"City\",\"State\", \"Description\", \"Street\", \"Turning_Loop\",\"Wind_Direction\"],inplace = True)\n",
    "df2"
   ]
  },
  {
   "cell_type": "code",
   "execution_count": null,
   "metadata": {},
   "outputs": [],
   "source": []
  },
  {
   "cell_type": "code",
   "execution_count": 495,
   "metadata": {},
   "outputs": [
    {
     "data": {
      "text/plain": [
       "Severity             0\n",
       "Distance(mi)         0\n",
       "County               0\n",
       "Temperature(F)       0\n",
       "Wind_Chill(F)        0\n",
       "Humidity(%)          0\n",
       "Pressure(in)         0\n",
       "Visibility(mi)       0\n",
       "Wind_Speed(mph)      0\n",
       "Precipitation(in)    0\n",
       "Weather_Condition    0\n",
       "Amenity              0\n",
       "Traffic_Calming      0\n",
       "Crossing             0\n",
       "Give_Way             0\n",
       "Stop                 0\n",
       "Junction             0\n",
       "Railway              0\n",
       "Roundabout           0\n",
       "Traffic_Signal       0\n",
       "No_junction          0\n",
       "Month                0\n",
       "Year                 0\n",
       "dtype: int64"
      ]
     },
     "execution_count": 495,
     "metadata": {},
     "output_type": "execute_result"
    }
   ],
   "source": [
    "features = [\"Temperature(F)\", \"Humidity(%)\",\"Wind_Chill(F)\", \"Pressure(in)\", \"Visibility(mi)\", \"Wind_Speed(mph)\", \"Precipitation(in)\"]\n",
    "df2[features] = df2[features].fillna(df2[features].mean())\n",
    "df2.dropna(inplace=True)\n",
    "df2.isna().sum()"
   ]
  },
  {
   "cell_type": "code",
   "execution_count": 496,
   "metadata": {},
   "outputs": [],
   "source": [
    "severity_counts = df2[\"Severity\"].value_counts()\n",
    "min_n = severity_counts.min()\n",
    "for i in range(1,5):\n",
    "    remove_n = severity_counts[i] - min_n\n",
    "    drop_indices = np.random.choice(df2[df2['Severity']==i].index, remove_n, replace=False)\n",
    "    df2 = df2.drop(drop_indices)"
   ]
  },
  {
   "cell_type": "code",
   "execution_count": 497,
   "metadata": {},
   "outputs": [
    {
     "data": {
      "text/html": [
       "<div>\n",
       "<style scoped>\n",
       "    .dataframe tbody tr th:only-of-type {\n",
       "        vertical-align: middle;\n",
       "    }\n",
       "\n",
       "    .dataframe tbody tr th {\n",
       "        vertical-align: top;\n",
       "    }\n",
       "\n",
       "    .dataframe thead th {\n",
       "        text-align: right;\n",
       "    }\n",
       "</style>\n",
       "<table border=\"1\" class=\"dataframe\">\n",
       "  <thead>\n",
       "    <tr style=\"text-align: right;\">\n",
       "      <th></th>\n",
       "      <th>Severity</th>\n",
       "      <th>Distance(mi)</th>\n",
       "      <th>Temperature(F)</th>\n",
       "      <th>Wind_Chill(F)</th>\n",
       "      <th>Humidity(%)</th>\n",
       "      <th>Pressure(in)</th>\n",
       "      <th>Visibility(mi)</th>\n",
       "      <th>Wind_Speed(mph)</th>\n",
       "      <th>Precipitation(in)</th>\n",
       "      <th>Amenity</th>\n",
       "      <th>...</th>\n",
       "      <th>County_4</th>\n",
       "      <th>County_5</th>\n",
       "      <th>County_6</th>\n",
       "      <th>County_7</th>\n",
       "      <th>County_8</th>\n",
       "      <th>County_9</th>\n",
       "      <th>Weather_Condition_0</th>\n",
       "      <th>Weather_Condition_1</th>\n",
       "      <th>Weather_Condition_2</th>\n",
       "      <th>Weather_Condition_3</th>\n",
       "    </tr>\n",
       "  </thead>\n",
       "  <tbody>\n",
       "    <tr>\n",
       "      <th>5</th>\n",
       "      <td>4</td>\n",
       "      <td>3.962</td>\n",
       "      <td>42.1</td>\n",
       "      <td>39.200000</td>\n",
       "      <td>37.0</td>\n",
       "      <td>30.06</td>\n",
       "      <td>10.0</td>\n",
       "      <td>4.600000</td>\n",
       "      <td>0.008448</td>\n",
       "      <td>0</td>\n",
       "      <td>...</td>\n",
       "      <td>0</td>\n",
       "      <td>0</td>\n",
       "      <td>0</td>\n",
       "      <td>0</td>\n",
       "      <td>0</td>\n",
       "      <td>1</td>\n",
       "      <td>0</td>\n",
       "      <td>0</td>\n",
       "      <td>0</td>\n",
       "      <td>1</td>\n",
       "    </tr>\n",
       "    <tr>\n",
       "      <th>18</th>\n",
       "      <td>2</td>\n",
       "      <td>0.044</td>\n",
       "      <td>67.0</td>\n",
       "      <td>67.000000</td>\n",
       "      <td>81.0</td>\n",
       "      <td>29.77</td>\n",
       "      <td>10.0</td>\n",
       "      <td>3.000000</td>\n",
       "      <td>0.000000</td>\n",
       "      <td>0</td>\n",
       "      <td>...</td>\n",
       "      <td>0</td>\n",
       "      <td>0</td>\n",
       "      <td>0</td>\n",
       "      <td>0</td>\n",
       "      <td>1</td>\n",
       "      <td>0</td>\n",
       "      <td>0</td>\n",
       "      <td>0</td>\n",
       "      <td>0</td>\n",
       "      <td>1</td>\n",
       "    </tr>\n",
       "    <tr>\n",
       "      <th>22</th>\n",
       "      <td>1</td>\n",
       "      <td>0.000</td>\n",
       "      <td>49.0</td>\n",
       "      <td>44.000000</td>\n",
       "      <td>93.0</td>\n",
       "      <td>29.73</td>\n",
       "      <td>6.0</td>\n",
       "      <td>14.000000</td>\n",
       "      <td>0.000000</td>\n",
       "      <td>0</td>\n",
       "      <td>...</td>\n",
       "      <td>0</td>\n",
       "      <td>0</td>\n",
       "      <td>0</td>\n",
       "      <td>0</td>\n",
       "      <td>1</td>\n",
       "      <td>1</td>\n",
       "      <td>0</td>\n",
       "      <td>0</td>\n",
       "      <td>0</td>\n",
       "      <td>1</td>\n",
       "    </tr>\n",
       "    <tr>\n",
       "      <th>23</th>\n",
       "      <td>2</td>\n",
       "      <td>0.822</td>\n",
       "      <td>66.0</td>\n",
       "      <td>66.000000</td>\n",
       "      <td>24.0</td>\n",
       "      <td>29.51</td>\n",
       "      <td>10.0</td>\n",
       "      <td>3.000000</td>\n",
       "      <td>0.000000</td>\n",
       "      <td>0</td>\n",
       "      <td>...</td>\n",
       "      <td>0</td>\n",
       "      <td>0</td>\n",
       "      <td>0</td>\n",
       "      <td>1</td>\n",
       "      <td>0</td>\n",
       "      <td>0</td>\n",
       "      <td>0</td>\n",
       "      <td>0</td>\n",
       "      <td>1</td>\n",
       "      <td>0</td>\n",
       "    </tr>\n",
       "    <tr>\n",
       "      <th>32</th>\n",
       "      <td>3</td>\n",
       "      <td>2.472</td>\n",
       "      <td>39.0</td>\n",
       "      <td>55.082355</td>\n",
       "      <td>96.0</td>\n",
       "      <td>30.43</td>\n",
       "      <td>3.0</td>\n",
       "      <td>7.621646</td>\n",
       "      <td>0.008448</td>\n",
       "      <td>0</td>\n",
       "      <td>...</td>\n",
       "      <td>0</td>\n",
       "      <td>0</td>\n",
       "      <td>0</td>\n",
       "      <td>1</td>\n",
       "      <td>0</td>\n",
       "      <td>1</td>\n",
       "      <td>0</td>\n",
       "      <td>0</td>\n",
       "      <td>1</td>\n",
       "      <td>0</td>\n",
       "    </tr>\n",
       "    <tr>\n",
       "      <th>...</th>\n",
       "      <td>...</td>\n",
       "      <td>...</td>\n",
       "      <td>...</td>\n",
       "      <td>...</td>\n",
       "      <td>...</td>\n",
       "      <td>...</td>\n",
       "      <td>...</td>\n",
       "      <td>...</td>\n",
       "      <td>...</td>\n",
       "      <td>...</td>\n",
       "      <td>...</td>\n",
       "      <td>...</td>\n",
       "      <td>...</td>\n",
       "      <td>...</td>\n",
       "      <td>...</td>\n",
       "      <td>...</td>\n",
       "      <td>...</td>\n",
       "      <td>...</td>\n",
       "      <td>...</td>\n",
       "      <td>...</td>\n",
       "      <td>...</td>\n",
       "    </tr>\n",
       "    <tr>\n",
       "      <th>199932</th>\n",
       "      <td>2</td>\n",
       "      <td>2.312</td>\n",
       "      <td>78.0</td>\n",
       "      <td>78.000000</td>\n",
       "      <td>74.0</td>\n",
       "      <td>29.81</td>\n",
       "      <td>10.0</td>\n",
       "      <td>8.000000</td>\n",
       "      <td>0.000000</td>\n",
       "      <td>0</td>\n",
       "      <td>...</td>\n",
       "      <td>0</td>\n",
       "      <td>0</td>\n",
       "      <td>1</td>\n",
       "      <td>1</td>\n",
       "      <td>0</td>\n",
       "      <td>1</td>\n",
       "      <td>0</td>\n",
       "      <td>0</td>\n",
       "      <td>0</td>\n",
       "      <td>1</td>\n",
       "    </tr>\n",
       "    <tr>\n",
       "      <th>199933</th>\n",
       "      <td>1</td>\n",
       "      <td>0.000</td>\n",
       "      <td>95.0</td>\n",
       "      <td>95.000000</td>\n",
       "      <td>49.0</td>\n",
       "      <td>30.01</td>\n",
       "      <td>10.0</td>\n",
       "      <td>6.000000</td>\n",
       "      <td>0.000000</td>\n",
       "      <td>0</td>\n",
       "      <td>...</td>\n",
       "      <td>0</td>\n",
       "      <td>1</td>\n",
       "      <td>0</td>\n",
       "      <td>1</td>\n",
       "      <td>0</td>\n",
       "      <td>0</td>\n",
       "      <td>0</td>\n",
       "      <td>0</td>\n",
       "      <td>0</td>\n",
       "      <td>1</td>\n",
       "    </tr>\n",
       "    <tr>\n",
       "      <th>199950</th>\n",
       "      <td>2</td>\n",
       "      <td>0.421</td>\n",
       "      <td>63.0</td>\n",
       "      <td>63.000000</td>\n",
       "      <td>100.0</td>\n",
       "      <td>28.49</td>\n",
       "      <td>7.0</td>\n",
       "      <td>20.000000</td>\n",
       "      <td>0.000000</td>\n",
       "      <td>0</td>\n",
       "      <td>...</td>\n",
       "      <td>1</td>\n",
       "      <td>1</td>\n",
       "      <td>1</td>\n",
       "      <td>1</td>\n",
       "      <td>1</td>\n",
       "      <td>1</td>\n",
       "      <td>0</td>\n",
       "      <td>1</td>\n",
       "      <td>0</td>\n",
       "      <td>0</td>\n",
       "    </tr>\n",
       "    <tr>\n",
       "      <th>199967</th>\n",
       "      <td>2</td>\n",
       "      <td>1.818</td>\n",
       "      <td>56.3</td>\n",
       "      <td>55.082355</td>\n",
       "      <td>92.0</td>\n",
       "      <td>30.13</td>\n",
       "      <td>10.0</td>\n",
       "      <td>7.621646</td>\n",
       "      <td>0.008448</td>\n",
       "      <td>0</td>\n",
       "      <td>...</td>\n",
       "      <td>1</td>\n",
       "      <td>1</td>\n",
       "      <td>1</td>\n",
       "      <td>0</td>\n",
       "      <td>1</td>\n",
       "      <td>1</td>\n",
       "      <td>0</td>\n",
       "      <td>0</td>\n",
       "      <td>1</td>\n",
       "      <td>0</td>\n",
       "    </tr>\n",
       "    <tr>\n",
       "      <th>199974</th>\n",
       "      <td>1</td>\n",
       "      <td>0.000</td>\n",
       "      <td>81.0</td>\n",
       "      <td>81.000000</td>\n",
       "      <td>52.0</td>\n",
       "      <td>30.08</td>\n",
       "      <td>10.0</td>\n",
       "      <td>18.000000</td>\n",
       "      <td>0.000000</td>\n",
       "      <td>0</td>\n",
       "      <td>...</td>\n",
       "      <td>0</td>\n",
       "      <td>0</td>\n",
       "      <td>1</td>\n",
       "      <td>0</td>\n",
       "      <td>0</td>\n",
       "      <td>1</td>\n",
       "      <td>0</td>\n",
       "      <td>0</td>\n",
       "      <td>0</td>\n",
       "      <td>1</td>\n",
       "    </tr>\n",
       "  </tbody>\n",
       "</table>\n",
       "<p>14584 rows × 35 columns</p>\n",
       "</div>"
      ],
      "text/plain": [
       "        Severity  Distance(mi)  Temperature(F)  Wind_Chill(F)  Humidity(%)  \\\n",
       "5              4         3.962            42.1      39.200000         37.0   \n",
       "18             2         0.044            67.0      67.000000         81.0   \n",
       "22             1         0.000            49.0      44.000000         93.0   \n",
       "23             2         0.822            66.0      66.000000         24.0   \n",
       "32             3         2.472            39.0      55.082355         96.0   \n",
       "...          ...           ...             ...            ...          ...   \n",
       "199932         2         2.312            78.0      78.000000         74.0   \n",
       "199933         1         0.000            95.0      95.000000         49.0   \n",
       "199950         2         0.421            63.0      63.000000        100.0   \n",
       "199967         2         1.818            56.3      55.082355         92.0   \n",
       "199974         1         0.000            81.0      81.000000         52.0   \n",
       "\n",
       "        Pressure(in)  Visibility(mi)  Wind_Speed(mph)  Precipitation(in)  \\\n",
       "5              30.06            10.0         4.600000           0.008448   \n",
       "18             29.77            10.0         3.000000           0.000000   \n",
       "22             29.73             6.0        14.000000           0.000000   \n",
       "23             29.51            10.0         3.000000           0.000000   \n",
       "32             30.43             3.0         7.621646           0.008448   \n",
       "...              ...             ...              ...                ...   \n",
       "199932         29.81            10.0         8.000000           0.000000   \n",
       "199933         30.01            10.0         6.000000           0.000000   \n",
       "199950         28.49             7.0        20.000000           0.000000   \n",
       "199967         30.13            10.0         7.621646           0.008448   \n",
       "199974         30.08            10.0        18.000000           0.000000   \n",
       "\n",
       "        Amenity  ...  County_4  County_5  County_6  County_7  County_8  \\\n",
       "5             0  ...         0         0         0         0         0   \n",
       "18            0  ...         0         0         0         0         1   \n",
       "22            0  ...         0         0         0         0         1   \n",
       "23            0  ...         0         0         0         1         0   \n",
       "32            0  ...         0         0         0         1         0   \n",
       "...         ...  ...       ...       ...       ...       ...       ...   \n",
       "199932        0  ...         0         0         1         1         0   \n",
       "199933        0  ...         0         1         0         1         0   \n",
       "199950        0  ...         1         1         1         1         1   \n",
       "199967        0  ...         1         1         1         0         1   \n",
       "199974        0  ...         0         0         1         0         0   \n",
       "\n",
       "        County_9  Weather_Condition_0  Weather_Condition_1  \\\n",
       "5              1                    0                    0   \n",
       "18             0                    0                    0   \n",
       "22             1                    0                    0   \n",
       "23             0                    0                    0   \n",
       "32             1                    0                    0   \n",
       "...          ...                  ...                  ...   \n",
       "199932         1                    0                    0   \n",
       "199933         0                    0                    0   \n",
       "199950         1                    0                    1   \n",
       "199967         1                    0                    0   \n",
       "199974         1                    0                    0   \n",
       "\n",
       "        Weather_Condition_2  Weather_Condition_3  \n",
       "5                         0                    1  \n",
       "18                        0                    1  \n",
       "22                        0                    1  \n",
       "23                        1                    0  \n",
       "32                        1                    0  \n",
       "...                     ...                  ...  \n",
       "199932                    0                    1  \n",
       "199933                    0                    1  \n",
       "199950                    0                    0  \n",
       "199967                    1                    0  \n",
       "199974                    0                    1  \n",
       "\n",
       "[14584 rows x 35 columns]"
      ]
     },
     "execution_count": 497,
     "metadata": {},
     "output_type": "execute_result"
    }
   ],
   "source": [
    "import category_encoders as ce\n",
    "binary_encoder = ce.binary.BinaryEncoder()\n",
    "county = binary_encoder.fit_transform(df2[\"County\"])\n",
    "binary_encoder = ce.binary.BinaryEncoder()\n",
    "weather = binary_encoder.fit_transform(df2[\"Weather_Condition\"])\n",
    "df2 = pd.concat([df2, county,weather], axis=1).drop(columns = [\"County\",\"Weather_Condition\"], axis=1)\n",
    "df2"
   ]
  },
  {
   "cell_type": "code",
   "execution_count": 511,
   "metadata": {},
   "outputs": [],
   "source": [
    "data = df2.drop(columns=[\"Severity\"])\n",
    "target = df2[\"Severity\"]\n",
    "train_data, test_data, train_target, test_target = train_test_split(\n",
    "    data, target, test_size=0.7, random_state=2022)"
   ]
  },
  {
   "cell_type": "code",
   "execution_count": 512,
   "metadata": {},
   "outputs": [
    {
     "name": "stdout",
     "output_type": "stream",
     "text": [
      "Accuracy :  0.47575668527769616\n",
      "Optimal n_neighors: 19\n"
     ]
    }
   ],
   "source": [
    "from sklearn.model_selection import cross_validate\n",
    "from sklearn.model_selection import GridSearchCV\n",
    "from sklearn.neighbors import KNeighborsClassifier\n",
    "\n",
    "params_to_try = {'n_neighbors': range(1, 20)}\n",
    "knn_search = GridSearchCV(estimator=KNeighborsClassifier(), param_grid=params_to_try)\n",
    "knn_search.fit(train_data, train_target)\n",
    "n = knn_search.best_params_['n_neighbors']\n",
    "pred = knn_search.predict(test_data) \n",
    "\n",
    "print (\"Accuracy : \", accuracy_score(test_target, pred))\n",
    "print(\"Optimal n_neighors:\", n)\n"
   ]
  },
  {
   "cell_type": "code",
   "execution_count": 513,
   "metadata": {},
   "outputs": [
    {
     "name": "stdout",
     "output_type": "stream",
     "text": [
      "[[2224  100  147   70]\n",
      " [ 662 1007  467  413]\n",
      " [ 778  342  874  571]\n",
      " [ 595  509  698  752]]\n"
     ]
    },
    {
     "data": {
      "image/png": "[encoded data removed]",
      "text/plain": [
       "<Figure size 432x288 with 2 Axes>"
      ]
     },
     "metadata": {
      "needs_background": "light"
     },
     "output_type": "display_data"
    }
   ],
   "source": [
    "con_matrix = confusion_matrix(test_target, pred)\n",
    "print(con_matrix)\n",
    "disp = ConfusionMatrixDisplay(confusion_matrix=con_matrix, display_labels=[1,2,3,4])\n",
    "disp.plot()\n",
    "plt.show()"
   ]
  },
  {
   "cell_type": "code",
   "execution_count": 518,
   "metadata": {},
   "outputs": [
    {
     "data": {
      "image/png": "[encoded data removed]",
      "text/plain": [
       "<Figure size 1080x720 with 1 Axes>"
      ]
     },
     "metadata": {
      "needs_background": "light"
     },
     "output_type": "display_data"
    }
   ],
   "source": [
    "importances = pd.DataFrame(np.zeros((train_data.shape[1], 1)), columns=[\"importance\"], index=train_data.columns)\n",
    "\n",
    "importances.iloc[:,0] = rfc.feature_importances_\n",
    "\n",
    "importances = importances.sort_values(by=\"importance\", ascending=False)\n",
    "\n",
    "plt.figure(figsize=(15, 10))\n",
    "sns.barplot(x=\"importance\", y=importances.index, data=importances, palette =sns.color_palette(\"crest\", n_colors=30))\n",
    "plt.show()"
   ]
  },
  {
   "cell_type": "code",
   "execution_count": 501,
   "metadata": {},
   "outputs": [
    {
     "name": "stderr",
     "output_type": "stream",
     "text": [
      "/Users/psuedoche/opt/anaconda3/lib/python3.7/site-packages/sklearn/linear_model/_logistic.py:940: ConvergenceWarning: lbfgs failed to converge (status=1):\n",
      "STOP: TOTAL NO. of ITERATIONS REACHED LIMIT.\n",
      "\n",
      "Increase the number of iterations (max_iter) or scale the data as shown in:\n",
      "    https://scikit-learn.org/stable/modules/preprocessing.html\n",
      "Please also refer to the documentation for alternative solver options:\n",
      "    https://scikit-learn.org/stable/modules/linear_model.html#logistic-regression\n",
      "  extra_warning_msg=_LOGISTIC_SOLVER_CONVERGENCE_MSG)\n"
     ]
    },
    {
     "name": "stdout",
     "output_type": "stream",
     "text": [
      "accuracy: 0.4640023508668822\n",
      "[[1930   91  249  271]\n",
      " [ 545 1241  468  295]\n",
      " [ 783  471  837  474]\n",
      " [ 618  608  599  729]]\n"
     ]
    },
    {
     "data": {
      "image/png": "[encoded data removed]",
      "text/plain": [
       "<Figure size 432x288 with 2 Axes>"
      ]
     },
     "metadata": {
      "needs_background": "light"
     },
     "output_type": "display_data"
    }
   ],
   "source": [
    "logistic_model = LogisticRegression()\n",
    "logistic_model.fit(X=train_data, y=train_target)\n",
    "\n",
    "# get predictions and accuracy\n",
    "predictions = logistic_model.predict(test_data)\n",
    "acc_score = accuracy_score(test_target, predictions)\n",
    "\n",
    "print(\"accuracy:\", acc_score)\n",
    "con_matrix = confusion_matrix(test_target, predictions)\n",
    "\n",
    "print(con_matrix)\n",
    "disp = ConfusionMatrixDisplay(confusion_matrix=con_matrix, display_labels=[1,2,3,4])\n",
    "disp.plot()\n",
    "plt.show()"
   ]
  },
  {
   "cell_type": "code",
   "execution_count": 502,
   "metadata": {},
   "outputs": [
    {
     "name": "stdout",
     "output_type": "stream",
     "text": [
      "              precision    recall  f1-score   support\n",
      "\n",
      "           1       0.50      0.76      0.60      2541\n",
      "           2       0.51      0.49      0.50      2549\n",
      "           3       0.39      0.33      0.35      2565\n",
      "           4       0.41      0.29      0.34      2554\n",
      "\n",
      "    accuracy                           0.46     10209\n",
      "   macro avg       0.45      0.46      0.45     10209\n",
      "weighted avg       0.45      0.46      0.45     10209\n",
      "\n"
     ]
    }
   ],
   "source": [
    "from sklearn.metrics import classification_report\n",
    "print(classification_report(test_target, predictions))"
   ]
  },
  {
   "cell_type": "code",
   "execution_count": 503,
   "metadata": {},
   "outputs": [
    {
     "name": "stdout",
     "output_type": "stream",
     "text": [
      "Fitting 5 folds for each of 16 candidates, totalling 80 fits\n"
     ]
    },
    {
     "name": "stderr",
     "output_type": "stream",
     "text": [
      "[Parallel(n_jobs=-1)]: Using backend LokyBackend with 4 concurrent workers.\n",
      "[Parallel(n_jobs=-1)]: Done  10 tasks      | elapsed:    5.0s\n",
      "[Parallel(n_jobs=-1)]: Done  64 tasks      | elapsed:   47.0s\n",
      "[Parallel(n_jobs=-1)]: Done  80 out of  80 | elapsed:  1.2min finished\n"
     ]
    },
    {
     "name": "stdout",
     "output_type": "stream",
     "text": [
      "Best parameters:\n",
      "{'max_depth': 30, 'n_estimators': 500}\n",
      "Train score: 0.9997714285714285\n",
      "Validation score: 0.6454109119404448\n"
     ]
    }
   ],
   "source": [
    "from sklearn.ensemble import RandomForestClassifier\n",
    "rfc = RandomForestClassifier(n_jobs=-1, random_state=2022)\n",
    "parameters = [{\"n_estimators\": [50, 100, 200, 500], \"max_depth\": [5, 10, 15, 30]}]\n",
    "grid = GridSearchCV(rfc, parameters, verbose=5, n_jobs=-1)\n",
    "grid.fit(train_data, train_target)\n",
    "\n",
    "print(\"Best parameters:\")\n",
    "print(grid.best_params_)\n",
    "print(\"Train score:\", grid.score(train_data, train_target))\n",
    "print(\"Validation score:\", grid.score(test_data, test_target))"
   ]
  },
  {
   "cell_type": "code",
   "execution_count": 504,
   "metadata": {},
   "outputs": [
    {
     "name": "stdout",
     "output_type": "stream",
     "text": [
      "              precision    recall  f1-score   support\n",
      "\n",
      "           1       0.74      0.93      0.83      2541\n",
      "           2       0.72      0.58      0.64      2549\n",
      "           3       0.53      0.50      0.51      2565\n",
      "           4       0.57      0.57      0.57      2554\n",
      "\n",
      "    accuracy                           0.65     10209\n",
      "   macro avg       0.64      0.65      0.64     10209\n",
      "weighted avg       0.64      0.65      0.64     10209\n",
      "\n",
      "[[1930   91  249  271]\n",
      " [ 545 1241  468  295]\n",
      " [ 783  471  837  474]\n",
      " [ 618  608  599  729]]\n"
     ]
    },
    {
     "data": {
      "image/png": "[encoded data removed]",
      "text/plain": [
       "<Figure size 432x288 with 2 Axes>"
      ]
     },
     "metadata": {
      "needs_background": "light"
     },
     "output_type": "display_data"
    }
   ],
   "source": [
    "rfc.fit(train_data, train_target)\n",
    "pred = rfc.predict(test_data)\n",
    "print(classification_report(test_target, pred))\n",
    "con_matrix = confusion_matrix(test_target, predictions)\n",
    "\n",
    "print(con_matrix)\n",
    "disp = ConfusionMatrixDisplay(confusion_matrix=con_matrix, display_labels=[1,2,3,4])\n",
    "disp.plot()\n",
    "plt.show()"
   ]
  },
  {
   "cell_type": "code",
   "execution_count": 517,
   "metadata": {},
   "outputs": [
    {
     "data": {
      "image/png": "[encoded data removed]",
      "text/plain": [
       "<Figure size 1080x720 with 1 Axes>"
      ]
     },
     "metadata": {
      "needs_background": "light"
     },
     "output_type": "display_data"
    }
   ],
   "source": [
    "importances = pd.DataFrame(np.zeros((train_data.shape[1], 1)), columns=[\"importance\"], index=train_data.columns)\n",
    "\n",
    "importances.iloc[:,0] = rfc.feature_importances_\n",
    "\n",
    "importances = importances.sort_values(by=\"importance\", ascending=False)\n",
    "\n",
    "plt.figure(figsize=(15, 10))\n",
    "sns.barplot(x=\"importance\", y=importances.index, data=importances, palette =sns.color_palette(\"crest\", n_colors=30))\n",
    "plt.show()"
   ]
  }
 ],
 "metadata": {
  "kernelspec": {
   "display_name": "Python 3",
   "language": "python",
   "name": "python3"
  },
  "language_info": {
   "codemirror_mode": {
    "name": "ipython",
    "version": 3
   },
   "file_extension": ".py",
   "mimetype": "text/x-python",
   "name": "python",
   "nbconvert_exporter": "python",
   "pygments_lexer": "ipython3",
   "version": "3.7.6"
  }
 },
 "nbformat": 4,
 "nbformat_minor": 4
}
